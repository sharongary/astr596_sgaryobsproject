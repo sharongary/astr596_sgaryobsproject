{
 "cells": [
  {
   "cell_type": "markdown",
   "metadata": {},
   "source": [
    "<h2>OBSERVATIONAL ASTROPHYSICS – FALL 2019 OBSERVING EXERCISE I- Part 1</h2>\n",
    "<h4>All elements are due by October 30th at 11:59pm.</h4>\n",
    "<i>I know that this is soon, but things need to work on a somewhat accelerated timescale for us to be ready for our observing.</i>"
   ]
  },
  {
   "cell_type": "markdown",
   "metadata": {},
   "source": [
    "<i>Note: Enter in all code to the problems in the provided notebook cells. Questions to answer will be <b>bolded</b>.</i>  "
   ]
  },
  {
   "cell_type": "markdown",
   "metadata": {},
   "source": [
    "As a key element in this class, we are planning to observe remotely with the 42-inch telescope at Mt. Laguna Observatory (MLO) east of San Diego. The telescope is equipped with a CCD camera and a variety of broad and intermediate-band filters. The broad-band filters include the standard UBVRI set. The plan is to use the scope potentially (weather permitting) to obtain photometry of an open cluster.\n",
    "\n",
    "Places in code blocks where you will need to modify the code are marked by \n",
    "\"#********************\"\n",
    "\n",
    "All your answers should be entered using the python notebook templates provided as part of this assignment. Each student will need to hand in their own notebook by uploading it to a new repository on GitHub.  Just make a repository and add me as a collaborator.\n",
    "\n",
    "<i><u>Please save your work to github often, even if you are not complete.  That is a good strategy for backing up your work and also means that you can access it from other computers.</u></i>"
   ]
  },
  {
   "cell_type": "markdown",
   "metadata": {},
   "source": [
    "<h3>Part 1</h3>\n",
    "To plan your observing, you need to derive a few basics about the combined scope/ instrumentation. The 1.0m telescope at MLO has an optics combination that results in an effective f/7.5 ratio. It is equipped with an electronically cooled E2V42-40 CCD camera and a dual filter wheel assembly from ACE, Inc. The spec sheet for this chip iwas provided to you separately. \n",
    "\n",
    "<b><u>A)    Given the CCD type and the telescope optics:\n",
    "<ol> \n",
    "    <li>What will be the size in arcseconds of the typical CCD pixel on the E2V42-40 chip.</li>\n",
    "    <li>What is the field of view (FOV) of the 1.0m CCD camera in arc minutes? By FOV I mean the length of one side of the detector. </li>\n",
    "<ol>\n",
    "</u></b>\n",
    "    \n",
    "\n",
    "   "
   ]
  },
  {
   "cell_type": "code",
   "execution_count": 3,
   "metadata": {},
   "outputs": [
    {
     "name": "stdout",
     "output_type": "stream",
     "text": [
      "0.37127699999999997\n",
      "12.672921599999999\n"
     ]
    }
   ],
   "source": [
    "#Answer A) Here\n",
    "#You will need to use simple mathematical expressions and what you learned in class to find the asnwers to these.  \n",
    "#In order to get credit for this part you will need to write an expression that properly executes and results in the answer\n",
    "#You will need an expression for both parts 1 and 2 above\n",
    "\n",
    "#part 1\n",
    "\n",
    "focal_length = 7.5\n",
    "pixel_size = (13.5E-6) * (206265/(focal_length))\n",
    "print(pixel_size)\n",
    "\n",
    "#part 2\n",
    "\n",
    "FOV = pixel_size * 2048\n",
    "FOV_in_amin = FOV / 60\n",
    "print(FOV_in_amin)"
   ]
  },
  {
   "cell_type": "markdown",
   "metadata": {},
   "source": [
    "We are using the telescope on Nov. 4-6. We will need to begin the telescope setup procedure about 1 hour before Sunset so that we are ready to begin taking frames once it becomes dark enough to observe and we can take some calibration frames while the sky is still bright enough. (Note: since we are observing from Mount Laguna Observatory (MLO), a couple of ours East of San Diego, all the questions below need to be answered as if you were at MLO. We can then add 2 hours to the times to account for the local observing schedule.) Daylight savings time ends at 2am on Nov. 3, so you will need to double check that any relation between local time and UTC accounts for this change.\n",
    "\n",
    "<b><u>B)    When does sunset occur on Nov. 4? (DST ends on Nov. 3)</u></b>  <i> The end of the code prints your answer in UTC.  You need to also print it in MLO and Lawrence time.</i>"
   ]
  },
  {
   "cell_type": "code",
   "execution_count": 4,
   "metadata": {},
   "outputs": [
    {
     "name": "stderr",
     "output_type": "stream",
     "text": [
      "WARNING: AstropyDeprecationWarning: astropy.extern.six will be removed in 4.0, use the six module directly if it is still needed [astropy.extern.six]\n",
      "WARNING: failed to download http://maia.usno.navy.mil/ser7/finals2000A.all and http://toshi.nofs.navy.mil/ser7/finals2000A.all, using local IERS-B: [Errno 104] Connection reset by peer;HTTP Error 503: Service Unavailable [astropy.utils.iers.iers]\n",
      "WARNING: Tried to get polar motions for times after IERS data is valid. Defaulting to polar motion from the 50-yr mean for those. This may affect precision at the 10s of arcsec level [astropy.coordinates.builtin_frames.utils]\n",
      "WARNING: OldEarthOrientationDataWarning: For best precision (on the order of arcseconds), you must download an up-to-date IERS Bulletin A table. To do so, run:\n",
      "\n",
      ">>> from astroplan import download_IERS_A\n",
      ">>> download_IERS_A()\n",
      " [astroplan.utils]\n",
      "WARNING: (some) times are outside of range covered by IERS table. Assuming UT1-UTC=0 for coordinate transformations. [astropy.coordinates.builtin_frames.utils]\n",
      "WARNING: failed to download http://maia.usno.navy.mil/ser7/finals2000A.all and http://toshi.nofs.navy.mil/ser7/finals2000A.all, using local IERS-B: <urlopen error timed out>;HTTP Error 503: Service Unavailable [astropy.utils.iers.iers]\n"
     ]
    },
    {
     "name": "stdout",
     "output_type": "stream",
     "text": [
      "Sunset: 2019-11-04 00:48:47.367\n",
      "Sunset in Mount Laguna: 2019-11-03 16:48:50.247\n",
      "Sunset in Lawrence: 2019-11-03 18:48:47.367\n"
     ]
    }
   ],
   "source": [
    "#There is a function in the python package astroplan to find the sunset time for a given location and date:\n",
    "#    https://astroplan.readthedocs.io/en/latest/api/astroplan.Observer.html#astroplan.Observer.sun_set_time\n",
    "#This function is a part of the observer class, and takes an input Time object from astropy corresponding to \n",
    "# the date. See documentation for astropy's Time object here for reference if needed:\n",
    "#    https://docs.astropy.org/en/stable/api/astropy.time.Time.html\n",
    "#Here's an example of how this function works:\n",
    "#\n",
    "#    Time_date = Time('2001-05-27')\n",
    "#    observer_object = Observer(longtiude = -155.0903*u.deg, latitude = 19.7026*u.deg, elevation = 100.0*u.m, name = \"Subaru\",timezone = \"US/Hawaii\")\n",
    "#    sunset_time = observer_object.sun_set_time(Time_date, which = \"next\")\n",
    "#\n",
    "#Note here that Time_date is the date of observation, and which=\"next\" instructs the function to provide the next sunset time\n",
    "#For details on the observer object, to be used throughout this assignment, see here:\n",
    "#    https://astroplan.readthedocs.io/en/latest/api/astroplan.Observer.html\n",
    "#In general, the observer object takes in a longtiude, latitude, elevation (we assign this as 0), a name of your choice, and a timezone.\n",
    "#You can view a list of available timezones on this stackoverflow thread:\n",
    "#    https://stackoverflow.com/questions/13866926/is-there-a-list-of-pytz-timezones\n",
    "\n",
    "\n",
    "#We import the necessary packages for this section\n",
    "from astroplan import Observer\n",
    "from astropy.time import Time\n",
    "import astropy.units as u\n",
    "#import warnings\n",
    "#warnings.filterwarnings(\"ignore\")\n",
    "\n",
    "#****************\n",
    "#Here you will need to define the coordinates of the MLO observatory. Note that W and S have negative values (whereas E and N are positive).\n",
    "#The latitude and longitude need to be put in decimal form, e.g. long = 20.0003, lat = 33.33333 (those are not the right coordinates)\n",
    "_LONGITUDE_ = -116.4276\n",
    "_LATITUDE_ = 32.8422\n",
    "\n",
    "#This is an astropy Time object, with a time value that corresponds to the date of observation. Date format: Time('YYYY-MM-DD')\n",
    "_TIME_ = Time('2019-11-04') #*******************\n",
    "\n",
    "#This makes the observer object for the MLO observatory. \n",
    "MLO_observer = Observer(longitude = _LONGITUDE_*u.deg, latitude = _LATITUDE_*u.deg, elevation = 1859.0*u.m, name = \"MLO\",timezone = \"US/Pacific\") #*********\n",
    "\n",
    "#This computes the sunset at the time specified by the TIME object, at the location defined by ML_observer\n",
    "sunset_time = MLO_observer.sun_set_time(_TIME_, which = \"next\") #*********\n",
    "\n",
    "\n",
    "#The following provides a useful way to print out astropy Time objects in a convenient way. \n",
    "#The time returned here is in UTC time\n",
    "\n",
    "#added variable name\n",
    "UTC_time = \"Sunset: {0.iso}\".format(sunset_time)\n",
    "print(UTC_time)\n",
    "\n",
    "#*****************\n",
    "#put calculation here to find sunset time at MLO and in Lawrence.  Also include code to print answers.\n",
    "#sunset_time is given in Julian time so convert time difference\n",
    "#0.3333 is 8 hours in Julian time\n",
    "#0.25 is 6 hours in Julian time\n",
    "\n",
    "MLO_time = \"Sunset in Mount Laguna: {0.iso}\".format(sunset_time - 0.3333)\n",
    "print(MLO_time)\n",
    "Lawrence_time = \"Sunset in Lawrence: {0.iso}\".format(sunset_time - 0.25)\n",
    "print(Lawrence_time)"
   ]
  },
  {
   "cell_type": "markdown",
   "metadata": {},
   "source": [
    "Note – technically, sunset refers to the moment when the entire disk of the sun sinks below the horizon. However, the sky is still quite bright because of scattered/refracted light from the seeing sun. The next key moment is the end of twilight, defined as the moment when the sun’s center is a certain number of degrees below the horizon: civil twilight = 6°, astronomical twilight = 18°. At astronomical twilight, it should be totally dark (Moon excluded).\n",
    "\n",
    "<b><u>C)    When does <font color=\"red\">astronomical twilight</font> occur on Nov. 4?</u></b><i> The end of the code prints your answer in UTC.  You need to also print it in MLO and Lawrence time.</i>"
   ]
  },
  {
   "cell_type": "code",
   "execution_count": 5,
   "metadata": {},
   "outputs": [
    {
     "name": "stdout",
     "output_type": "stream",
     "text": [
      "Astronomical Twilight: 2019-11-04 02:16:39.095\n"
     ]
    }
   ],
   "source": [
    "#There is an astroplan function that can be used to find astronomical twilight for a given time and position(observer):\n",
    "#    https://astroplan.readthedocs.io/en/latest/api/astroplan.Observer.html#astroplan.Observer.twilight_evening_astronomical\n",
    "#This function is a part of the observer class in astroplan, and its inputs are a time object corresponding to\n",
    "#the date of observation, and an argument which, with possible values previous, nearest, or next, which choose\n",
    "#the corresponding astronomical twilight to find\n",
    "#Example:\n",
    "#    observer_object = Observer(location=location, name=\"Subaru\", timezone=\"US/Hawaii\")\n",
    "#    astro_twilight = observer_object.twilight_evening_astronomical(Time_date, which = \"next\")\n",
    "\n",
    "###\n",
    "#*******************\n",
    "#Answer C) Here. YOUR CODE: \n",
    "astro_twilight = MLO_observer.twilight_evening_astronomical(_TIME_, which = \"next\")\n",
    "\n",
    "#The following provides a useful way to print out astropy Time objects in a convenient way. \n",
    "print(\"Astronomical Twilight: {0.iso}\".format(astro_twilight)) "
   ]
  },
  {
   "cell_type": "markdown",
   "metadata": {},
   "source": [
    "Convert the UTC output to the local time both at MLO and in Lawrence and put the answer and the calculation in the next cell.  The result of the cell should print out the twilight time at both locations."
   ]
  },
  {
   "cell_type": "code",
   "execution_count": 6,
   "metadata": {},
   "outputs": [
    {
     "name": "stdout",
     "output_type": "stream",
     "text": [
      "Lawrence Astronomical Twilight: 2019-11-03 20:16:39.095\n",
      "MLO Astronomical Twilight: 2019-11-03 18:16:41.975\n"
     ]
    }
   ],
   "source": [
    "#Part C answer goes here\n",
    "\n",
    "#Lawrence time\n",
    "Lawrence_twilight = \"Lawrence Astronomical Twilight: {0.iso}\".format(astro_twilight - 0.25)\n",
    "print(Lawrence_twilight)\n",
    "\n",
    "#MLO time\n",
    "MLO_twilight = \"MLO Astronomical Twilight: {0.iso}\".format(astro_twilight - 0.3333)\n",
    "print(MLO_twilight)"
   ]
  },
  {
   "cell_type": "markdown",
   "metadata": {},
   "source": [
    "We will be observing for the first half of the night. Given your answer to (C), we will divide the evening into two time slots, each 2.5 HRS long. Let AT = Astronomical Twilight, then the 2 slots are:\n",
    "<ol>\n",
    "    <li> <b>time slot 1</b> = AT + 0.5 HR to AT + 3.0 HRS</li>\n",
    "    <li> <b>time slot 2</b> = AT + 3.0 HRS to AT+ 5.5 HRS</li>\n",
    "</ol>\n",
    "The names of everyone and their time slots were posted in the lecture notes. You should work within your group to prepare the observing materials discussed below, but everyone will need to hand in their own notebook.\n",
    "\n",
    "For your group/time slot:\n",
    "\n",
    "<b><u>D) What is the optimum range of RA for objects that you would ideally observe during your 2.5-hour session?</u></b> Note: <i>Think about whether objects of a given RA are rising or settng at the beginning and end of your observation session.</i>"
   ]
  },
  {
   "cell_type": "markdown",
   "metadata": {},
   "source": [
    "Go to the web page https://www.iiap.res.in/people/personnel/reks/software/javascript/calclst.php to find the sidereal time at different local times.  \n",
    "\n",
    "In the first row, enter the date and desired local time at MLO.  In the second line, enter your shift from UTC to MLO and the longitude of MLO.  Hit return in any box to update.  \n",
    "\n",
    "Enter the information in the empty markdown box below and make sure to give a rationale as to why this range of RA is appropriate."
   ]
  },
  {
   "cell_type": "markdown",
   "metadata": {},
   "source": [
    "You can include LaTeX text such as $\\alpha^2$ in your answer.\n",
    "\n",
    "\n",
    "\n",
    "LST: 21.98 to 0.49 (from website)\n",
    "\n",
    "In order to find a good range of RA values, we can take the LST from the start (21.98) and add/subtract 2 hours to see what RA values we get for both the start and end of the roughly four-five hour period that we will be observing. Adding 2 hours gives us an LST = 23.98. Subtracting 2 hours gives us an LST = 19.98. So our range of RA will be from 19.98 to 23.98."
   ]
  },
  {
   "cell_type": "markdown",
   "metadata": {},
   "source": [
    "<b><u>E) If you want to remain within 30° of the zenith, what is the optimum range in declination? You need to answer this in two parts:\n",
    "\n",
    "1\\. Given the location of the observatory, objects at their transit need to have what range of declination to be within 30° of the zenith.<i>  This requires a straightforward calculation</i>\n",
    "</u> </b>\n"
   ]
  },
  {
   "cell_type": "code",
   "execution_count": 8,
   "metadata": {},
   "outputs": [
    {
     "name": "stdout",
     "output_type": "stream",
     "text": [
      "The best range is  [2.8421999999999983, 62.8422]\n"
     ]
    }
   ],
   "source": [
    "#Answer E) Here\n",
    "#Part 1:\n",
    "#   Figure out how to use the observatory's location to find the position of the zenith.\n",
    "#\n",
    "\n",
    "zenith = _LATITUDE_\n",
    "minzenith = zenith - 30\n",
    "maxzenith = zenith + 30\n",
    "bestrange = [minzenith, maxzenith]\n",
    "print(\"The best range is \", bestrange)"
   ]
  },
  {
   "cell_type": "markdown",
   "metadata": {},
   "source": [
    "<b><u>\n",
    "2\\. Using airmass plots, determine what range of declinations would keep objects within 30° of the zenith over the course of your 2.5 hour observation block. Your answer will need to include airmass plots to demonstrate this. These plots can contain multiple curves, e.g. for different RA and DEC combinations, as long as the curves are labeled. All plots should come with a caption.</li>\n",
    "    </u> </b>\n"
   ]
  },
  {
   "cell_type": "code",
   "execution_count": 10,
   "metadata": {},
   "outputs": [
    {
     "ename": "ValueError",
     "evalue": "Input values did not match any of the formats where the format keyword is optional ['datetime', 'iso', 'isot', 'yday', 'datetime64', 'fits', 'byear_str', 'jyear_str']",
     "output_type": "error",
     "traceback": [
      "\u001b[0;31m---------------------------------------------------------------------------\u001b[0m",
      "\u001b[0;31mValueError\u001b[0m                                Traceback (most recent call last)",
      "\u001b[0;32m<ipython-input-10-3e7eb39eabf3>\u001b[0m in \u001b[0;36m<module>\u001b[0;34m\u001b[0m\n\u001b[1;32m     15\u001b[0m \u001b[0;31m#For this problem, you will need to change this time such that the x-axis of the plot\u001b[0m\u001b[0;34m\u001b[0m\u001b[0;34m\u001b[0m\u001b[0;34m\u001b[0m\u001b[0m\n\u001b[1;32m     16\u001b[0m \u001b[0;31m#starts just before sunset.  Note the time zone of the x-axis\u001b[0m\u001b[0;34m\u001b[0m\u001b[0;34m\u001b[0m\u001b[0;34m\u001b[0m\u001b[0m\n\u001b[0;32m---> 17\u001b[0;31m \u001b[0mobservation_time\u001b[0m \u001b[0;34m=\u001b[0m \u001b[0mTime\u001b[0m\u001b[0;34m(\u001b[0m\u001b[0;34m''\u001b[0m\u001b[0;34m)\u001b[0m\u001b[0;34m\u001b[0m\u001b[0;34m\u001b[0m\u001b[0m\n\u001b[0m\u001b[1;32m     18\u001b[0m \u001b[0;34m\u001b[0m\u001b[0m\n\u001b[1;32m     19\u001b[0m \u001b[0;31m#*******************\u001b[0m\u001b[0;34m\u001b[0m\u001b[0;34m\u001b[0m\u001b[0;34m\u001b[0m\u001b[0m\n",
      "\u001b[0;32m~/.conda/envs/python3env/lib/python3.7/site-packages/astropy/time/core.py\u001b[0m in \u001b[0;36m__init__\u001b[0;34m(self, val, val2, format, scale, precision, in_subfmt, out_subfmt, location, copy)\u001b[0m\n\u001b[1;32m    397\u001b[0m         \u001b[0;32melse\u001b[0m\u001b[0;34m:\u001b[0m\u001b[0;34m\u001b[0m\u001b[0;34m\u001b[0m\u001b[0m\n\u001b[1;32m    398\u001b[0m             self._init_from_vals(val, val2, format, scale, copy,\n\u001b[0;32m--> 399\u001b[0;31m                                  precision, in_subfmt, out_subfmt)\n\u001b[0m\u001b[1;32m    400\u001b[0m             \u001b[0mself\u001b[0m\u001b[0;34m.\u001b[0m\u001b[0mSCALES\u001b[0m \u001b[0;34m=\u001b[0m \u001b[0mTIME_TYPES\u001b[0m\u001b[0;34m[\u001b[0m\u001b[0mself\u001b[0m\u001b[0;34m.\u001b[0m\u001b[0mscale\u001b[0m\u001b[0;34m]\u001b[0m\u001b[0;34m\u001b[0m\u001b[0;34m\u001b[0m\u001b[0m\n\u001b[1;32m    401\u001b[0m \u001b[0;34m\u001b[0m\u001b[0m\n",
      "\u001b[0;32m~/.conda/envs/python3env/lib/python3.7/site-packages/astropy/time/core.py\u001b[0m in \u001b[0;36m_init_from_vals\u001b[0;34m(self, val, val2, format, scale, copy, precision, in_subfmt, out_subfmt)\u001b[0m\n\u001b[1;32m    452\u001b[0m         \u001b[0;31m# Parse / convert input values into internal jd1, jd2 based on format\u001b[0m\u001b[0;34m\u001b[0m\u001b[0;34m\u001b[0m\u001b[0;34m\u001b[0m\u001b[0m\n\u001b[1;32m    453\u001b[0m         self._time = self._get_time_fmt(val, val2, format, scale,\n\u001b[0;32m--> 454\u001b[0;31m                                         precision, in_subfmt, out_subfmt)\n\u001b[0m\u001b[1;32m    455\u001b[0m         \u001b[0mself\u001b[0m\u001b[0;34m.\u001b[0m\u001b[0m_format\u001b[0m \u001b[0;34m=\u001b[0m \u001b[0mself\u001b[0m\u001b[0;34m.\u001b[0m\u001b[0m_time\u001b[0m\u001b[0;34m.\u001b[0m\u001b[0mname\u001b[0m\u001b[0;34m\u001b[0m\u001b[0;34m\u001b[0m\u001b[0m\n\u001b[1;32m    456\u001b[0m \u001b[0;34m\u001b[0m\u001b[0m\n",
      "\u001b[0;32m~/.conda/envs/python3env/lib/python3.7/site-packages/astropy/time/core.py\u001b[0m in \u001b[0;36m_get_time_fmt\u001b[0;34m(self, val, val2, format, scale, precision, in_subfmt, out_subfmt)\u001b[0m\n\u001b[1;32m    503\u001b[0m                 \u001b[0;32mpass\u001b[0m\u001b[0;34m\u001b[0m\u001b[0;34m\u001b[0m\u001b[0m\n\u001b[1;32m    504\u001b[0m         \u001b[0;32melse\u001b[0m\u001b[0;34m:\u001b[0m\u001b[0;34m\u001b[0m\u001b[0;34m\u001b[0m\u001b[0m\n\u001b[0;32m--> 505\u001b[0;31m             \u001b[0;32mraise\u001b[0m \u001b[0mValueError\u001b[0m\u001b[0;34m(\u001b[0m\u001b[0;34m'Input values did not match {0}'\u001b[0m\u001b[0;34m.\u001b[0m\u001b[0mformat\u001b[0m\u001b[0;34m(\u001b[0m\u001b[0merr_msg\u001b[0m\u001b[0;34m)\u001b[0m\u001b[0;34m)\u001b[0m\u001b[0;34m\u001b[0m\u001b[0;34m\u001b[0m\u001b[0m\n\u001b[0m\u001b[1;32m    506\u001b[0m \u001b[0;34m\u001b[0m\u001b[0m\n\u001b[1;32m    507\u001b[0m     \u001b[0;34m@\u001b[0m\u001b[0mclassmethod\u001b[0m\u001b[0;34m\u001b[0m\u001b[0;34m\u001b[0m\u001b[0m\n",
      "\u001b[0;31mValueError\u001b[0m: Input values did not match any of the formats where the format keyword is optional ['datetime', 'iso', 'isot', 'yday', 'datetime64', 'fits', 'byear_str', 'jyear_str']"
     ]
    }
   ],
   "source": [
    "#Here, we will provide you with the code needed to make airmass plots. You will use this to guide your answer to E part 2\n",
    "###We important all the needed packages\n",
    "from astropy.coordinates import SkyCoord\n",
    "from astroplan import FixedTarget\n",
    "from astroplan.plots import plot_airmass, plot_altitude\n",
    "import matplotlib.pyplot as plt\n",
    "import numpy as np\n",
    "%config InlineBackend.figure_format = 'svg' #This makes the plots appear better inline in the notebook\n",
    "###\n",
    "\n",
    "fig, ax = plt.subplots() #These are the matplotlib Figure and and Axis objects we will plot on\n",
    "\n",
    "#*******************\n",
    "#you will need to enter an observation time in UT time format 'YYYY-MM-DD HH:MM:SS'.  \n",
    "#For this problem, you will need to change this time such that the x-axis of the plot\n",
    "#starts just before sunset.  Note the time zone of the x-axis\n",
    "observation_time = Time('') \n",
    "\n",
    "#*******************\n",
    "#Now, you must define the coordinates for a target in the sky, for which the airmass plot will be made.\n",
    "#You will have to think about how to define these coordinates to find your answer for question E.2\n",
    "#With these coordinates, we make a target object using the FixedTarget function from astroplan.\n",
    "#Using the RA range from Part D, you should play with the DEC parameter until you find which DEC\n",
    "#values satisfy the altitude constraint.\n",
    "target_coord = SkyCoord(ra=(23.98 * 15)*u.deg, dec=21*u.deg)\n",
    "target_source = FixedTarget(coord=target_coord, name=\"Target\")\n",
    "\n",
    "#We now actually construct the airmass plot. The plut_altitude function makes the airmass plot, with the elevation on the y-axis\n",
    "plot_altitude(target_source,MLO_observer, observation_time)\n",
    "\n",
    "#We will now plot a line and shaded region at and above an elevation of 60 degrees\n",
    "xmin, xmax = ax.get_xlim()\n",
    "x_line = np.linspace(xmin,xmax,100)\n",
    "y = [60]*100\n",
    "ax.plot(x_line, y, ls = '--')\n",
    "ax.fill_between(x_line, 60, 90, alpha = 0.1, color= 'orange' )\n",
    "\n",
    "\n",
    "\n",
    "ymin, ymax = ax.get_ylim()\n",
    "y_line = np.linspace(ymin,ymax,100)\n",
    "xstart = np.array([xmin + 0.5] * 100)\n",
    "ax.plot(xstart, y_line, ls = ':', color='blue')\n",
    "xend = xstart + [2.5/24]\n",
    "ax.plot(xend, y_line, ls = ':', color='blue')\n",
    "\n",
    "plt.show()\n"
   ]
  },
  {
   "cell_type": "code",
   "execution_count": 1,
   "metadata": {},
   "outputs": [],
   "source": [
    "#Part 2: \n",
    "#   You will need to make a series of airmass plots using the code above to figure out which declinations satisfy the requirement here.\n",
    "#   You can copy the code from above to make the airmass plots! \n",
    "#\n",
    "\n",
    "#Here, we will provide you with the code needed to make airmass plots. You will use this to guide your answer to E part 2\n",
    "###We important all the needed packages\n",
    "from astropy.coordinates import SkyCoord\n",
    "from astroplan import FixedTarget\n",
    "from astroplan.plots import plot_airmass, plot_altitude\n",
    "import matplotlib.pyplot as plt\n",
    "import numpy as np\n",
    "%config InlineBackend.figure_format = 'svg' #This makes the plots appear better inline in the notebook\n",
    "###\n",
    "\n",
    "fig, ax = plt.subplots() #These are the matplotlib Figure and and Axis objects we will plot on\n",
    "\n",
    "#*******************\n",
    "#you will need to enter an observation time in UT time format 'YYYY-MM-DD HH:MM:SS'.  \n",
    "#For this problem, you will need to change this time such that the x-axis of the plot\n",
    "#starts just before sunset.  Note the time zone of the x-axis\n",
    "observation_time = Time('') \n",
    "\n",
    "#*******************\n",
    "#Now, you must define the coordinates for a target in the sky, for which the airmass plot will be made.\n",
    "#You will have to think about how to define these coordinates to find your answer for question E.2\n",
    "#With these coordinates, we make a target object using the FixedTarget function from astroplan.\n",
    "#Using the RA range from Part D, you should play with the DEC parameter until you find which DEC\n",
    "#values satisfy the altitude constraint.\n",
    "target_coord = SkyCoord(ra=(19.98 * 15)*u.deg, dec=22*u.deg)\n",
    "target_source = FixedTarget(coord=target_coord, name=\"Target\")\n",
    "\n",
    "#We now actually construct the airmass plot. The plut_altitude function makes the airmass plot, with the elevation on the y-axis\n",
    "plot_altitude(target_source,MLO_observer, observation_time)\n",
    "\n",
    "#We will now plot a line and shaded region at and above an elevation of 60 degrees\n",
    "xmin, xmax = ax.get_xlim()\n",
    "x_line = np.linspace(xmin,xmax,100)\n",
    "y = [60]*100\n",
    "ax.plot(x_line, y, ls = '--')\n",
    "ax.fill_between(x_line, 60, 90, alpha = 0.1, color= 'orange' )\n",
    "\n",
    "\n",
    "\n",
    "ymin, ymax = ax.get_ylim()\n",
    "y_line = np.linspace(ymin,ymax,100)\n",
    "xstart = np.array([xmin + 0.5] * 100)\n",
    "ax.plot(xstart, y_line, ls = ':', color='blue')\n",
    "xend = xstart + [2.5/24]\n",
    "ax.plot(xend, y_line, ls = ':', color='blue')\n",
    "\n",
    "plt.show()\n",
    "\n"
   ]
  }
 ],
 "metadata": {
  "kernelspec": {
   "display_name": "Python 3",
   "language": "python",
   "name": "python3"
  },
  "language_info": {
   "codemirror_mode": {
    "name": "ipython",
    "version": 3
   },
   "file_extension": ".py",
   "mimetype": "text/x-python",
   "name": "python",
   "nbconvert_exporter": "python",
   "pygments_lexer": "ipython3",
   "version": "3.7.1"
  }
 },
 "nbformat": 4,
 "nbformat_minor": 2
}
